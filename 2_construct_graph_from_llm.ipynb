{
 "cells": [
  {
   "cell_type": "code",
   "execution_count": 2,
   "id": "ac31e45d-3b1a-442e-b243-f7724f7960e1",
   "metadata": {},
   "outputs": [],
   "source": [
    "# Run this cell and restart the kernel if the libraries are not present in the environment\n",
    "! pip install --upgrade --quiet  langchain==0.1.12 langchain-community==0.0.29 langchain-openai==0.1.1 langchain-experimental==0.0.54 neo4j==5.18.0 "
   ]
  },
  {
   "cell_type": "code",
   "execution_count": 1,
   "id": "9f5ad2f4-ba75-4e52-8320-ec10faa5e10b",
   "metadata": {},
   "outputs": [],
   "source": [
    "# Load all the libraries\n",
    "from langchain_community.document_loaders import PubMedLoader\n",
    "from langchain_experimental.graph_transformers import LLMGraphTransformer\n",
    "from langchain.text_splitter import TokenTextSplitter\n",
    "from langchain_community.graphs import Neo4jGraph\n",
    "from langchain_openai import ChatOpenAI\n",
    "from langchain_community.chat_models import ChatMlflow\n",
    "from langchain.chains.openai_functions import (\n",
    "    create_openai_fn_chain,\n",
    "    create_structured_output_chain,\n",
    ")\n",
    "from langchain_community.document_loaders import PyPDFLoader\n",
    "from langchain.prompts import ChatPromptTemplate\n",
    "from yfiles_jupyter_graphs import GraphWidget\n",
    "from neo4j import GraphDatabase\n",
    "\n",
    "import os\n",
    "from tqdm import tqdm"
   ]
  },
  {
   "cell_type": "code",
   "execution_count": 2,
   "id": "52edd244-9c0d-4252-9a3e-210aca9cdae1",
   "metadata": {},
   "outputs": [],
   "source": [
    "# Load from environment\n",
    "NEO4J_URI = os.getenv('NEO4J_URI')\n",
    "NEO4J_USERNAME = os.getenv('NEO4J_USERNAME')\n",
    "NEO4J_PASSWORD = os.getenv('NEO4J_PASSWORD')\n",
    "OPENAI_API_KEY = os.getenv('OPENAI_API_KEY')\n",
    "NEO4J_DATABASE = os.getenv('NEO4J_DATABASE') or 'neo4j'\n",
    "\n",
    "graph = Neo4jGraph(url=NEO4J_URI,password=NEO4J_PASSWORD, database=NEO4J_DATABASE)"
   ]
  },
  {
   "cell_type": "code",
   "execution_count": null,
   "id": "20068dc4-d540-46b2-98d7-2a422e6abbd9",
   "metadata": {},
   "outputs": [],
   "source": [
    "from langchain_community.graphs.graph_document import (\n",
    "    Node as BaseNode,\n",
    "    Relationship as BaseRelationship,\n",
    "    GraphDocument,\n",
    ")\n",
    "from langchain.schema import Document\n",
    "from typing import List, Dict, Any, Optional\n",
    "from langchain.pydantic_v1 import Field, BaseModel\n",
    "\n",
    "class Property(BaseModel):\n",
    "  \"\"\"A single property consisting of key and value\"\"\"\n",
    "  key: str = Field(..., description=\"key\")\n",
    "  value: str = Field(..., description=\"value\")\n",
    "\n",
    "class Node(BaseNode):\n",
    "    properties: Optional[List[Property]] = Field(\n",
    "        None, description=\"List of node properties\")\n",
    "\n",
    "class Relationship(BaseRelationship):\n",
    "    properties: Optional[List[Property]] = Field(\n",
    "        None, description=\"List of relationship properties\"\n",
    "    )\n",
    "\n",
    "class KnowledgeGraph(BaseModel):\n",
    "    \"\"\"Generate a knowledge graph with entities and relationships.\"\"\"\n",
    "    nodes: List[Node] = Field(\n",
    "        ..., description=\"List of nodes in the knowledge graph\")\n",
    "    rels: List[Relationship] = Field(\n",
    "        ..., description=\"List of relationships in the knowledge graph\"\n",
    "    )"
   ]
  },
  {
   "cell_type": "code",
   "execution_count": null,
   "id": "67596dec-bb5e-4cf9-863d-948def31f272",
   "metadata": {},
   "outputs": [],
   "source": [
    "def format_property_key(s: str) -> str:\n",
    "    words = s.split()\n",
    "    if not words:\n",
    "        return s\n",
    "    first_word = words[0].lower()\n",
    "    capitalized_words = [word.capitalize() for word in words[1:]]\n",
    "    return \"\".join([first_word] + capitalized_words)\n",
    "\n",
    "def props_to_dict(props) -> dict:\n",
    "    \"\"\"Convert properties to a dictionary.\"\"\"\n",
    "    properties = {}\n",
    "    if not props:\n",
    "      return properties\n",
    "    for p in props:\n",
    "        properties[format_property_key(p.key)] = p.value\n",
    "    return properties\n",
    "\n",
    "def map_to_base_node(node: Node) -> BaseNode:\n",
    "    \"\"\"Map the KnowledgeGraph Node to the base Node.\"\"\"\n",
    "    properties = props_to_dict(node.properties) if node.properties else {}\n",
    "    # Add name property for better Cypher statement generation\n",
    "    properties[\"name\"] = node.id.title()\n",
    "    return BaseNode(\n",
    "        id=node.id.title(), type=node.type.capitalize(), properties=properties\n",
    "    )\n",
    "\n",
    "\n",
    "def map_to_base_relationship(rel: Relationship) -> BaseRelationship:\n",
    "    \"\"\"Map the KnowledgeGraph Relationship to the base Relationship.\"\"\"\n",
    "    source = map_to_base_node(rel.source)\n",
    "    target = map_to_base_node(rel.target)\n",
    "    properties = props_to_dict(rel.properties) if rel.properties else {}\n",
    "    return BaseRelationship(\n",
    "        source=source, target=target, type=rel.type, properties=properties\n",
    "    )"
   ]
  },
  {
   "cell_type": "code",
   "execution_count": null,
   "id": "a7349908-41ad-4ccd-846f-5f1521bed309",
   "metadata": {},
   "outputs": [],
   "source": [
    "# Uncomment to use the AI gateway, change the name of the endpoint as required\n",
    "# llm = ChatMlflow(\n",
    "#     target_uri=os.environ[\"DOMINO_MLFLOW_DEPLOYMENTS\"],\n",
    "#     endpoint=\"chat-gpt35turbo-sm\",\n",
    "# )\n",
    "\n",
    "llm = ChatOpenAI(model=\"gpt-3.5-turbo-16k\", temperature=0)\n",
    "\n",
    "def get_extraction_chain(\n",
    "    allowed_nodes: Optional[List[str]] = None,\n",
    "    allowed_rels: Optional[List[str]] = None\n",
    "    ):\n",
    "    prompt = ChatPromptTemplate.from_messages(\n",
    "        [(\n",
    "          \"system\",\n",
    "          f\"\"\"# Knowledge Graph Instructions\n",
    "## 1. Overview\n",
    "You are a top-tier algorithm designed for extracting information in structured formats to build a knowledge graph.\n",
    "- **Nodes** represent entities and concepts similar to Wikipedia entries. Restrict the total number of unique entities and concepts to 10 to maintain focus and clarity.\n",
    "- The aim is to achieve simplicity and clarity in the knowledge graph, making it accessible to a broad audience. The structure of the graph should be straightforward.\n",
    "\n",
    "## 2. Labeling Nodes\n",
    "- **Consistency**: Ensure you use basic or elementary types for node labels.\n",
    "  - For example, when you identify an entity representing a person, always label it as **\"person\"**. Avoid using more specific terms like \"researcher\" or \"participant\" in the context of medical studies.\n",
    "- **Node IDs**: Never utilize integers as node IDs. Node IDs should be names or human-readable identifiers found in the text, such as the name of a person like \"Joe\" or computer science terms like \"algorithm\".\n",
    "\n",
    "## 3. Handling Numerical Data and Dates\n",
    "- Numerical data, like measurements of REE or blood pressure, should be incorporated as attributes or properties of the respective nodes.\n",
    "- **No Separate Nodes for Dates/Numbers**: Do not create separate nodes for dates or numerical values. Always attach them as attributes or properties of nodes.\n",
    "- **Property Format**: Properties must be in a key-value format, with keys in camelCase\n",
    "- **Quotation Marks**: Never use escaped single or double quotes within property values.\n",
    "\n",
    "## 4. Coreference Resolution\n",
    "If an entity, such as \"John Doe\", is mentioned multiple times in the text but is referred to by different names or pronouns (e.g., \"Joe\", \"he\"),\n",
    "always use the most complete identifier for that entity throughout the knowledge graph. In this example, use \"John Doe\" as the entity ID.\n",
    "Remember, the knowledge graph should be coherent and easily understandable, so maintaining consistency in entity references is crucial.\n",
    "\n",
    "## 5. Strict Compliance\n",
    "Adherence to these guidelines is mandatory. Non-compliance will result in the discontinuation of the algorithm's application. Ensuring accuracy, consistency, and clarity in the knowledge graph is paramount for it to be a reliable and valuable medical resource.\n",
    "\n",
    "          \"\"\"),\n",
    "            (\"human\", \"Use the given format to extract information from the following input: {input}\"),\n",
    "            (\"human\", \"Tip: Make sure to answer in the correct format\"),\n",
    "        ])\n",
    "    return create_structured_output_chain(KnowledgeGraph, llm, prompt, verbose=False)"
   ]
  },
  {
   "cell_type": "code",
   "execution_count": null,
   "id": "e121b3e6-959d-48a2-8935-553583e50f26",
   "metadata": {},
   "outputs": [],
   "source": [
    "def extract_and_store_graph(\n",
    "    document: Document,\n",
    "    nodes:Optional[List[str]] = None,\n",
    "    rels:Optional[List[str]]=None) -> None:\n",
    "    # Extract graph data using OpenAI functions\n",
    "    extract_chain = get_extraction_chain(nodes, rels)\n",
    "    data = extract_chain.invoke(document.page_content)['function']\n",
    "    # Construct a graph document\n",
    "    graph_document = GraphDocument(\n",
    "      nodes = [map_to_base_node(node) for node in data.nodes],\n",
    "      relationships = [map_to_base_relationship(rel) for rel in data.rels],\n",
    "      source = document\n",
    "    )\n",
    "    # Store information into a graph\n",
    "    graph.add_graph_documents([graph_document])"
   ]
  },
  {
   "cell_type": "code",
   "execution_count": 100,
   "id": "7d92f385-d36a-4229-aa29-a97a65be2194",
   "metadata": {},
   "outputs": [],
   "source": [
    "# Let's try ingesting and querying a pdf now\n",
    "loader = PyPDFLoader(\"/mnt/code/data/activision.pdf\")\n",
    "pages = loader.load_and_split()"
   ]
  },
  {
   "cell_type": "code",
   "execution_count": null,
   "id": "480e3595-9d12-42fc-8eed-7b197207b9df",
   "metadata": {},
   "outputs": [],
   "source": [
    "allowed_nodes = [\"Person\", \"Organization\", \"Risk\", \"Investor\", \"Location\", \"Game\", \"Franchise\", \"League\"]\n",
    "# Ingest the first 20 pages\n",
    "for i, d in tqdm(enumerate(pages[:20]), total=len(pages[:20])):\n",
    "    extract_and_store_graph(d, allowed_nodes)\n",
    "    # extract_and_store_graph(d)"
   ]
  },
  {
   "cell_type": "code",
   "execution_count": 135,
   "id": "7f2a135e-a493-4c07-bc96-5ee3428e8820",
   "metadata": {},
   "outputs": [],
   "source": [
    "# Query the knowledge graph in a RAG application\n",
    "from langchain.chains import GraphCypherQAChain\n",
    "\n",
    "graph.refresh_schema()\n",
    "\n",
    "# Uncomment and set chat_qa_llm in qa_llm to use the AI gateway, change the name of the endpoint as required\n",
    "# chat_qa_llm = ChatMlflow(\n",
    "#     target_uri=os.environ[\"DOMINO_MLFLOW_DEPLOYMENTS\"],\n",
    "#     endpoint=\"chat-gpt35turbo-sm\",\n",
    "# )\n",
    "\n",
    "cypher_chain = GraphCypherQAChain.from_llm(\n",
    "    graph=graph,\n",
    "    cypher_llm=ChatOpenAI(temperature=0.3, model=\"gpt-4\"),\n",
    "    qa_llm=ChatOpenAI(temperature=0, model=\"gpt-3.5-turbo-16k\"),\n",
    "    validate_cypher=True, # Validate relationship directions\n",
    "    verbose=False\n",
    ")"
   ]
  },
  {
   "cell_type": "code",
   "execution_count": 136,
   "id": "4a89058b-32c0-40e7-9a83-c3c6604086b9",
   "metadata": {},
   "outputs": [
    {
     "data": {
      "text/plain": [
       "{'query': 'Where is Activision Blizzard, Inc. incorporated?',\n",
       " 'result': 'Activision Blizzard, Inc. is incorporated in Delaware.'}"
      ]
     },
     "execution_count": 136,
     "metadata": {},
     "output_type": "execute_result"
    }
   ],
   "source": [
    "cypher_chain.invoke({\"query\": \"Where is Activision Blizzard, Inc. incorporated?\"})"
   ]
  },
  {
   "cell_type": "code",
   "execution_count": 137,
   "id": "015793fe-e79d-4d28-9a50-cd247f5e5ec0",
   "metadata": {},
   "outputs": [
    {
     "data": {
      "text/plain": [
       "{'query': 'What does King Digital Entertainment offer?',\n",
       " 'result': 'King Digital Entertainment offers World Of Warcraft and Candy Crush.'}"
      ]
     },
     "execution_count": 137,
     "metadata": {},
     "output_type": "execute_result"
    }
   ],
   "source": [
    "cypher_chain.invoke({\"query\": \"What does King Digital Entertainment offer?\"})"
   ]
  },
  {
   "cell_type": "code",
   "execution_count": 138,
   "id": "571fb241-894a-4cb8-9c11-2931617346b3",
   "metadata": {},
   "outputs": [
    {
     "data": {
      "text/plain": [
       "{'query': 'Who determines changes to compensation?',\n",
       " 'result': \"The Board Of Directors' Workplace Responsibility Committee determines changes to compensation.\"}"
      ]
     },
     "execution_count": 138,
     "metadata": {},
     "output_type": "execute_result"
    }
   ],
   "source": [
    "cypher_chain.invoke({\"query\": \"Who determines changes to compensation?\"})"
   ]
  },
  {
   "cell_type": "code",
   "execution_count": 139,
   "id": "1949ec03-d543-4ad8-9dd0-2ba98d36431a",
   "metadata": {},
   "outputs": [
    {
     "data": {
      "text/plain": [
       "{'query': 'What does the board of directors determine?',\n",
       " 'result': 'The board of directors determines Annual Compensation, Long-Term Compensation, and Workplace Excellence Objectives.'}"
      ]
     },
     "execution_count": 139,
     "metadata": {},
     "output_type": "execute_result"
    }
   ],
   "source": [
    "cypher_chain.invoke({\"query\": \"What does the board of directors determine?\"})"
   ]
  },
  {
   "cell_type": "code",
   "execution_count": 140,
   "id": "f9df0f26-d40d-4b4a-a3bd-92442747b9eb",
   "metadata": {},
   "outputs": [
    {
     "data": {
      "text/plain": [
       "{'query': 'Give me a list of competitors',\n",
       " 'result': 'Microsoft, Sony, Nintendo, Apple, and Google are competitors.'}"
      ]
     },
     "execution_count": 140,
     "metadata": {},
     "output_type": "execute_result"
    }
   ],
   "source": [
    "cypher_chain.invoke({\"query\": \"Give me a list of competitors\"})"
   ]
  },
  {
   "cell_type": "code",
   "execution_count": 141,
   "id": "ad085329-f3c8-4ba6-ae0f-17926ed433f7",
   "metadata": {},
   "outputs": [
    {
     "data": {
      "text/plain": [
       "{'query': 'What does Blizzard offer?',\n",
       " 'result': 'Blizzard offers the Warcraft Franchise, Diablo, and Overwatch.'}"
      ]
     },
     "execution_count": 141,
     "metadata": {},
     "output_type": "execute_result"
    }
   ],
   "source": [
    "cypher_chain.invoke({\"query\": \"What does Blizzard offer?\"})"
   ]
  },
  {
   "cell_type": "code",
   "execution_count": 142,
   "id": "cbabfd28-3bbd-4c86-abef-377e63fb9a55",
   "metadata": {},
   "outputs": [
    {
     "data": {
      "text/plain": [
       "{'query': 'What does the Form 10-K contain?',\n",
       " 'result': 'The Form 10-K contains information about Forward-Looking Statements.'}"
      ]
     },
     "execution_count": 142,
     "metadata": {},
     "output_type": "execute_result"
    }
   ],
   "source": [
    "cypher_chain.invoke({\"query\": \"What does the Form 10-K contain?\"})"
   ]
  },
  {
   "cell_type": "code",
   "execution_count": 144,
   "id": "73673408-0995-4d39-a43e-a687d71ca7d5",
   "metadata": {},
   "outputs": [
    {
     "data": {
      "text/plain": [
       "{'query': 'Who does Activision Blizzard conduct business through?',\n",
       " 'result': 'Activision Blizzard conducts business through Activision Publishing and Blizzard Entertainment.'}"
      ]
     },
     "execution_count": 144,
     "metadata": {},
     "output_type": "execute_result"
    }
   ],
   "source": [
    "cypher_chain.invoke({\"query\": \"Who does Activision Blizzard conduct business through?\"})"
   ]
  },
  {
   "cell_type": "code",
   "execution_count": 156,
   "id": "884ade3d-8183-4699-b570-bd25f447d338",
   "metadata": {},
   "outputs": [
    {
     "data": {
      "text/plain": [
       "{'query': 'What does the Strategy And Vision focus on?',\n",
       " 'result': 'The Strategy And Vision focuses on Expanding Audience Reach, Deepening Consumer Engagement, and Increasing Player Investment.'}"
      ]
     },
     "execution_count": 156,
     "metadata": {},
     "output_type": "execute_result"
    }
   ],
   "source": [
    "cypher_chain.invoke({\"query\": \"What does the Strategy And Vision focus on?\"})"
   ]
  },
  {
   "cell_type": "code",
   "execution_count": 176,
   "id": "291c8752-25c1-4fd9-b5ee-6b73be4d9ae0",
   "metadata": {},
   "outputs": [
    {
     "data": {
      "text/plain": [
       "{'query': 'What is included in the Forward-Looking Statements?',\n",
       " 'result': 'The Forward-Looking Statements include Revenues, Expenses, Income, Loss, Earnings Per Share, Cash Flow, Financial Items, Plans, Objectives, and Transaction.'}"
      ]
     },
     "execution_count": 176,
     "metadata": {},
     "output_type": "execute_result"
    }
   ],
   "source": [
    "cypher_chain.invoke({\"query\": \"What is included in the Forward-Looking Statements?\"})"
   ]
  },
  {
   "cell_type": "code",
   "execution_count": 174,
   "id": "eaa468a6-304b-4903-b5bf-09b5784be29a",
   "metadata": {},
   "outputs": [
    {
     "data": {
      "text/plain": [
       "{'query': 'What allegations are mentioned',\n",
       " 'result': 'The allegations mentioned are violation of Section 5 of the FTC Act and violation of Section 7 of the Clayton Act.'}"
      ]
     },
     "execution_count": 174,
     "metadata": {},
     "output_type": "execute_result"
    }
   ],
   "source": [
    "cypher_chain.invoke({\"query\": \"What allegations are mentioned\"})"
   ]
  }
 ],
 "metadata": {
  "kernelspec": {
   "display_name": "Python 3 (ipykernel)",
   "language": "python",
   "name": "python3"
  },
  "language_info": {
   "codemirror_mode": {
    "name": "ipython",
    "version": 3
   },
   "file_extension": ".py",
   "mimetype": "text/x-python",
   "name": "python",
   "nbconvert_exporter": "python",
   "pygments_lexer": "ipython3",
   "version": "3.9.18"
  }
 },
 "nbformat": 4,
 "nbformat_minor": 5
}
