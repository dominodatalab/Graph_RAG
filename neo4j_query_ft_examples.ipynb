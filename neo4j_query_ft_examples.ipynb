{
 "cells": [
  {
   "cell_type": "markdown",
   "id": "45a22532-57d6-4acb-bd4c-bb4e90d46590",
   "metadata": {},
   "source": [
    "## Examples of queries that can be added to the set of examples for few shot learning"
   ]
  },
  {
   "cell_type": "code",
   "execution_count": null,
   "id": "2f3989b4-bea2-4eed-9087-c075475a8a33",
   "metadata": {},
   "outputs": [],
   "source": [
    "# Which actors have worked with Keanu Reeves in more than 2 movies and list the movies\n",
    "MATCH (p1:Person)-[:ACTED_IN]->(m:Movie)<-[:ACTED_IN]-(p2:Person)\n",
    "WHERE p1.name = \"Keanu Reeves\" AND p1.name <> p2.name\n",
    "WITH p1, p2, collect(m.title) AS Movies, COUNT(m) AS sharedMovies\n",
    "WHERE sharedMovies > 2\n",
    "RETURN p2.name AS Actor, Movies\n",
    "ORDER BY sharedMovies DESC\n",
    "\n",
    "# Fetch movie recommendations in the same genre that have Keanu Reeves\n",
    "MATCH (p:Person {{name: \"Keanu Reeves\"}})-[:ACTED_IN]->(m:Movie),\n",
    "(m)-[:IN_CATEGORY]->(c:Category),\n",
    "(m2:Movie)-[:IN_CATEGORY]->(c)\n",
    "WHERE NOT (p)-[:ACTED_IN]->(m2) AND m <> m2\n",
    "RETURN DISTINCT m2.title AS RecommendedMovies, collect(c.name) AS Genres\n",
    "LIMIT 10;\n",
    "MATCH (p:Person {{name: \"Keanu Reeves\"}})-[:ACTED_IN]->(m:Movie),\n",
    "(m)-[:IN_CATEGORY]->(c:Category),\n",
    "(m2:Movie)-[:IN_CATEGORY]->(c)\n",
    "WHERE NOT (p)-[:ACTED_IN]->(m2) AND m <> m2\n",
    "RETURN DISTINCT m2.title AS RecommendedMovies, collect(c.name) AS Genres\n",
    "LIMIT 10\n",
    "\n",
    "# Find people who collaborated  with Christopher Nolan and list them in alphabetical order\n",
    "MATCH (p:Person {{name: \"Christopher Nolan\"}})-[:DIRECTED]->(m:Movie)<-[:ACTED_IN]-(a:Person)\n",
    "RETURN DISTINCT a.name AS Actor\n",
    "ORDER BY a.name;\n",
    "\n",
    "# Find movies that share at least one genre with Stranger Things and released within 2 years that Stranger Things was released\n",
    "MATCH (movie:Movie {{title: \"Stranger Things\"}})-[:IN_CATEGORY]->(genre:Category),\n",
    "(movie)-[:CREATED_ON]->(year:Year)\n",
    "WITH movie, collect(genre) AS genres, year\n",
    "MATCH (otherMovie:Movie)-[:IN_CATEGORY]->(otherGenre:Category),\n",
    "(otherMovie)-[:CREATED_ON]->(otherYear:Year)\n",
    "WHERE movie <> otherMovie\n",
    "WITH movie, genres, year, otherMovie, otherYear, collect(otherGenre) AS otherGenres\n",
    "WHERE any(g IN genres WHERE g IN otherGenres) AND\n",
    "abs(year.value - otherYear.value) <= 2\n",
    "RETURN otherMovie.title AS Recommendation,\n",
    "[g IN otherGenres | g.name] AS SharedGenres,\n",
    "otherYear.value AS ReleaseYear\n",
    "LIMIT 10;"
   ]
  }
 ],
 "metadata": {
  "kernelspec": {
   "display_name": "Python 3 (ipykernel)",
   "language": "python",
   "name": "python3"
  },
  "language_info": {
   "codemirror_mode": {
    "name": "ipython",
    "version": 3
   },
   "file_extension": ".py",
   "mimetype": "text/x-python",
   "name": "python",
   "nbconvert_exporter": "python",
   "pygments_lexer": "ipython3",
   "version": "3.9.18"
  }
 },
 "nbformat": 4,
 "nbformat_minor": 5
}
