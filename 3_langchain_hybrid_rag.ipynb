{
 "cells": [
  {
   "cell_type": "code",
   "execution_count": 9,
   "id": "6e96ca42-cad7-44c3-9ed9-e27da4d058b6",
   "metadata": {},
   "outputs": [],
   "source": [
    "# Run this cell and restart the kernel if the libraries are not present in the environment\n",
    "! pip install --upgrade --quiet  langchain==0.1.12 langchain-community==0.0.29 langchain-openai==0.1.1 langchain-experimental==0.0.54 neo4j==5.18.0 pypdf==4.1.0 wikipedia==1.4.0"
   ]
  },
  {
   "cell_type": "code",
   "execution_count": 10,
   "id": "b73f8e8b-689b-456f-a789-881480890354",
   "metadata": {},
   "outputs": [],
   "source": [
    "%run /mnt/code/utils/graph_RAG_chain.ipynb"
   ]
  },
  {
   "cell_type": "code",
   "execution_count": 3,
   "id": "992deb72-b17c-439c-a6c8-da76d3f3dbb9",
   "metadata": {},
   "outputs": [],
   "source": [
    "import os\n",
    "\n",
    "# Common data processing\n",
    "import json\n",
    "import textwrap\n",
    "\n",
    "# Langchain\n",
    "from langchain_community.graphs import Neo4jGraph\n",
    "from langchain_community.vectorstores import Neo4jVector\n",
    "from langchain_openai import OpenAIEmbeddings\n",
    "from langchain.text_splitter import RecursiveCharacterTextSplitter\n",
    "from langchain.chains import RetrievalQAWithSourcesChain\n",
    "from langchain_openai import ChatOpenAI\n",
    "from langchain_experimental.graph_transformers import LLMGraphTransformer\n",
    "from langchain_core.pydantic_v1 import BaseModel, Field\n",
    "from typing import Tuple, List, Optional\n",
    "from langchain_core.prompts import ChatPromptTemplate\n",
    "from langchain_community.vectorstores.neo4j_vector import remove_lucene_chars\n",
    "from langchain_core.prompts.prompt import PromptTemplate\n",
    "from langchain_core.runnables import (\n",
    "    RunnableBranch,\n",
    "    RunnableLambda,\n",
    "    RunnableParallel,\n",
    "    RunnablePassthrough,\n",
    ")\n",
    "from langchain_core.messages import AIMessage, HumanMessage\n",
    "from langchain_community.chat_models import ChatMlflow\n",
    "from langchain_community.document_loaders import PyPDFLoader\n",
    "\n",
    "from langchain.document_loaders import WikipediaLoader\n",
    "from langchain.text_splitter import TokenTextSplitter\n",
    "from langchain_core.output_parsers import StrOutputParser\n",
    "\n",
    "\n",
    "from neo4j import GraphDatabase\n",
    "\n",
    "import csv\n",
    "import pandas as pd\n",
    "import time\n",
    "\n",
    "\n",
    "# Warning control\n",
    "import warnings\n",
    "warnings.filterwarnings(\"ignore\")"
   ]
  },
  {
   "cell_type": "code",
   "execution_count": 4,
   "id": "23048401-79df-451f-b48c-2e905e030f71",
   "metadata": {},
   "outputs": [],
   "source": [
    "# Load from environment\n",
    "NEO4J_URI = os.getenv('NEO4J_URI')\n",
    "NEO4J_USERNAME = os.getenv('NEO4J_USERNAME')\n",
    "NEO4J_PASSWORD = os.getenv('NEO4J_PASSWORD')\n",
    "OPENAI_API_KEY = os.getenv('OPENAI_API_KEY')\n",
    "NEO4J_DATABASE = os.getenv('NEO4J_DATABASE') or 'neo4j'\n",
    "\n",
    "graph = Neo4jGraph()"
   ]
  },
  {
   "cell_type": "code",
   "execution_count": 18,
   "id": "6ee83bc0-ad5f-4a54-b5cc-a7fe044679be",
   "metadata": {},
   "outputs": [],
   "source": [
    "from langchain_community.document_loaders import PyPDFLoader\n",
    "\n",
    "loader = PyPDFLoader(\"/mnt/code/data/activision.pdf\")\n",
    "pages = loader.load_and_split()"
   ]
  },
  {
   "cell_type": "code",
   "execution_count": null,
   "id": "d4c1eb7c-67ed-4b50-b15e-73b7a79468ca",
   "metadata": {},
   "outputs": [],
   "source": [
    "pages[0].page_content"
   ]
  },
  {
   "cell_type": "code",
   "execution_count": 97,
   "id": "74e21cfc-e3f8-4204-a609-f402a0b5d75a",
   "metadata": {},
   "outputs": [],
   "source": [
    "# Read the wikipedia article\n",
    "raw_documents = WikipediaLoader(query=\"Elon Musk\").load()\n",
    "# Define chunking strategy\n",
    "text_splitter = TokenTextSplitter(chunk_size=512, chunk_overlap=24)\n",
    "documents = text_splitter.split_documents(raw_documents[:3])"
   ]
  },
  {
   "cell_type": "code",
   "execution_count": null,
   "id": "522d8295-fb75-409d-a8d0-96a4fb86d653",
   "metadata": {},
   "outputs": [],
   "source": [
    "# Uncomment  to use the AI gateway, change the name of the endpoint as required\n",
    "# llm = ChatMlflow(\n",
    "#     target_uri=os.environ[\"DOMINO_MLFLOW_DEPLOYMENTS\"],\n",
    "#     endpoint=\"chat-gpt35turbo-sm\",\n",
    "# )\n",
    "\n",
    "llm=ChatOpenAI(temperature=0, model_name=\"gpt-3.5-turbo-0125\") # gpt-4-0125-preview occasionally has issues\n",
    "llm_transformer = LLMGraphTransformer(llm=llm)"
   ]
  },
  {
   "cell_type": "code",
   "execution_count": 99,
   "id": "bf372cd1-4b32-4885-8f4e-7162f729f0d7",
   "metadata": {},
   "outputs": [
    {
     "data": {
      "text/plain": [
       "6"
      ]
     },
     "execution_count": 99,
     "metadata": {},
     "output_type": "execute_result"
    }
   ],
   "source": [
    "len(documents)"
   ]
  },
  {
   "cell_type": "code",
   "execution_count": null,
   "id": "e349f1c4-a127-410b-bd74-8288b719c8be",
   "metadata": {},
   "outputs": [],
   "source": [
    "graph_documents = llm_transformer.convert_to_graph_documents(documents)\n",
    "graph.add_graph_documents(\n",
    "    graph_documents,\n",
    "    baseEntityLabel=True,\n",
    "    include_source=True\n",
    ")"
   ]
  },
  {
   "cell_type": "code",
   "execution_count": 5,
   "id": "7c11b99f-463c-42b6-8629-46124585bd47",
   "metadata": {},
   "outputs": [],
   "source": [
    "vector_index = Neo4jVector.from_existing_graph(\n",
    "    OpenAIEmbeddings(),\n",
    "    search_type=\"hybrid\",\n",
    "    node_label=\"Document\",\n",
    "    text_node_properties=[\"text\"],\n",
    "    embedding_node_property=\"embedding\"\n",
    ")"
   ]
  },
  {
   "cell_type": "code",
   "execution_count": 142,
   "id": "212d493b-a1cf-4e82-8437-17bf55c5fa97",
   "metadata": {},
   "outputs": [
    {
     "data": {
      "text/plain": [
       "[]"
      ]
     },
     "execution_count": 142,
     "metadata": {},
     "output_type": "execute_result"
    }
   ],
   "source": [
    "# Retriever\n",
    "\n",
    "graph.query(\n",
    "    \"CREATE FULLTEXT INDEX entity IF NOT EXISTS FOR (e:__Entity__) ON EACH [e.id]\")\n"
   ]
  },
  {
   "cell_type": "code",
   "execution_count": 6,
   "id": "53b99070-4b1e-4c96-a717-16e097bc2ffc",
   "metadata": {},
   "outputs": [
    {
     "data": {
      "text/plain": [
       "['Elon Musk']"
      ]
     },
     "execution_count": 6,
     "metadata": {},
     "output_type": "execute_result"
    }
   ],
   "source": [
    "entity_chain.invoke({\"question\": \"Where was Elon Musk born?\"}).names"
   ]
  },
  {
   "cell_type": "code",
   "execution_count": 7,
   "id": "072b59d9-cdee-44ce-884a-caa15cb44379",
   "metadata": {},
   "outputs": [
    {
     "name": "stdout",
     "output_type": "stream",
     "text": [
      "Elon Musk - FOUNDER -> Spacex\n",
      "Elon Musk - FOUNDER -> Tesla Inc.\n",
      "Elon Musk - FOUNDER -> Boring Company\n",
      "Elon Musk - FOUNDER -> Xai\n",
      "Elon Musk - FOUNDER -> X.Com\n",
      "Elon Musk - OWNER -> Spacex\n",
      "Elon Musk - OWNER -> X Corp.\n",
      "Elon Musk - OWNER -> X Corp\n",
      "Elon Musk - EXECUTIVE_CHAIRMAN -> X Corp.\n",
      "Elon Musk - CTO -> X Corp.\n",
      "Elon Musk - CO-FOUNDER -> Neuralink\n",
      "Elon Musk - CO-FOUNDER -> Openai\n",
      "Elon Musk - CO-FOUNDER -> Zip2\n",
      "Elon Musk - CO-FOUNDER -> Paypal\n",
      "Elon Musk - CO-FOUNDER -> Solarcity\n",
      "Elon Musk - PRESIDENT -> Musk Foundation\n",
      "Elon Musk - MEMBER -> South African Musk Family\n",
      "Elon Musk - BIRTH_PLACE -> Pretoria\n",
      "Elon Musk - EDUCATION -> University Of Pretoria\n",
      "Elon Musk - EDUCATION -> Queen'S University At Kingston\n",
      "Elon Musk - EDUCATION -> University Of Pennsylvania\n",
      "Elon Musk - IMMIGRATION -> Canada\n",
      "Elon Musk - RELOCATION -> California\n",
      "Elon Musk - ACQUISITION -> Compaq\n",
      "Elon Musk - ACQUISITION -> Ebay\n",
      "Elon Musk - ACQUISITION -> Twitter\n",
      "Elon Musk - MERGER -> Confinity\n",
      "Elon Musk - PROPOSER -> Hyperloop\n",
      "Elon Musk - FOUNDED -> X Corp.\n",
      "Elon Musk - FOUNDED -> Xai\n",
      "Elon Musk - OWNERSHIP -> Twitter\n",
      "Elon Musk - SUED -> U.S. Securities And Exchange Commission (Sec)\n",
      "Elon Musk - CHAIRMAN -> Tesla\n",
      "Elon Musk - ACQUIRED -> Twitter\n",
      "Elon Musk - CEO -> Twitter\n",
      "Elon Musk - CEO -> Tesla\n",
      "Elon Musk - SUCCEEDED -> Linda Yaccarino\n",
      "Elon Musk - SUPPORTED_IN_2008_AND_2012 -> Barack Obama\n",
      "Elon Musk - SUPPORTED_IN_2016 -> Hillary Clinton\n",
      "Elon Musk - SUPPORTED_IN_2020 -> Joe Biden\n",
      "Elon Musk - STARTED_SUPPORTING_IN_2022 -> Republican Party\n",
      "Elon Musk - SUPPORTED_IN_2024_REPUBLICAN_PRESIDENTIAL_PRIMARIES -> Vivek Ramaswamy\n",
      "Elon Musk - SUPPORTS -> Universal Basic Income\n",
      "Elon Musk - SUPPORTS -> Gun Rights\n",
      "Elon Musk - SUPPORTS -> Freedom Of Speech\n",
      "Elon Musk - SUPPORTS -> Tax On Carbon Emissions\n",
      "Elon Musk - CRITICISM -> Short-Selling\n",
      "Elon Musk - CRITICISM -> Covid-19 Lockdowns\n",
      "Elon Musk - CRITICISM -> Public Transportation\n",
      "Elon Musk - CRITICISM -> Labor Unions\n"
     ]
    }
   ],
   "source": [
    "print(structured_retriever(\"Where is Stanford?\"))"
   ]
  },
  {
   "cell_type": "code",
   "execution_count": 129,
   "id": "5ea95fe0-b5b1-4b2f-9990-941091e943ba",
   "metadata": {},
   "outputs": [
    {
     "name": "stdout",
     "output_type": "stream",
     "text": [
      "Search query: Where was Elon born?\n"
     ]
    },
    {
     "data": {
      "text/plain": [
       "'Elon Musk was born in Pretoria, South Africa.'"
      ]
     },
     "execution_count": 129,
     "metadata": {},
     "output_type": "execute_result"
    }
   ],
   "source": [
    "chain.invoke({\"question\": \"Where was Elon born?\"})"
   ]
  },
  {
   "cell_type": "code",
   "execution_count": 8,
   "id": "afb088a3-ea81-4155-9c0e-7bd53dae4dac",
   "metadata": {},
   "outputs": [
    {
     "name": "stdout",
     "output_type": "stream",
     "text": [
      "Search query: When was Elon born?\n"
     ]
    },
    {
     "data": {
      "text/plain": [
       "'Elon Musk was born on June 28, 1971.'"
      ]
     },
     "execution_count": 8,
     "metadata": {},
     "output_type": "execute_result"
    }
   ],
   "source": [
    "chain.invoke(\n",
    "    {\n",
    "        \"question\": \"When was he born?\",\n",
    "        \"chat_history\": [(\"Where was Elon ?\", \"Where was Elon born?\")],\n",
    "    }\n",
    ")"
   ]
  },
  {
   "cell_type": "code",
   "execution_count": 132,
   "id": "48ffb189-9e04-47fc-bff9-1c3704dd9286",
   "metadata": {},
   "outputs": [],
   "source": [
    "# Now let's ingest the activision Form 10k\n",
    "\n",
    "loader = PyPDFLoader(\"/mnt/code/data/activision.pdf\")\n",
    "pages = loader.load_and_split()"
   ]
  },
  {
   "cell_type": "code",
   "execution_count": 134,
   "id": "fd395cac-9655-4e67-a24e-5df22717ec9d",
   "metadata": {},
   "outputs": [],
   "source": [
    "graph_documents = llm_transformer.convert_to_graph_documents(pages[:10])\n",
    "graph.add_graph_documents(\n",
    "    graph_documents,\n",
    "    baseEntityLabel=True,\n",
    "    include_source=True\n",
    ")"
   ]
  },
  {
   "cell_type": "code",
   "execution_count": 150,
   "id": "0f283c2e-7225-4efe-8ed6-ac34084d0f5b",
   "metadata": {},
   "outputs": [
    {
     "name": "stdout",
     "output_type": "stream",
     "text": [
      "Search query: What is the core business of Activision Publishing, Inc?\n"
     ]
    },
    {
     "data": {
      "text/plain": [
       "'The core business of Activision Publishing, Inc. is delivering content through both premium and free-to-play offerings, generating revenue from full-game and in-game sales, and licensing software to third-party companies. Their key product offerings include titles and content for the Call of Duty franchise.'"
      ]
     },
     "execution_count": 150,
     "metadata": {},
     "output_type": "execute_result"
    }
   ],
   "source": [
    "chain.invoke({\"question\": \"What is the core business of Activision Publishing, Inc?\"})"
   ]
  },
  {
   "cell_type": "code",
   "execution_count": 11,
   "id": "bf4ea533-bbdc-4e97-bf29-ac180e6e9240",
   "metadata": {},
   "outputs": [
    {
     "name": "stdout",
     "output_type": "stream",
     "text": [
      "Search query: Who has agreements for Diablo Immortal\n"
     ]
    },
    {
     "data": {
      "text/plain": [
       "'Activision Blizzard has agreements for Diablo Immortal with NetEase.'"
      ]
     },
     "execution_count": 11,
     "metadata": {},
     "output_type": "execute_result"
    }
   ],
   "source": [
    "chain.invoke({\"question\": \"Who has agreements for Diablo Immortal\"})"
   ]
  },
  {
   "cell_type": "code",
   "execution_count": 151,
   "id": "6cc66ab3-f032-4e91-8dd8-80c3a5f9468b",
   "metadata": {},
   "outputs": [
    {
     "name": "stdout",
     "output_type": "stream",
     "text": [
      "Search query: What is Activisions strategy and vision?\n"
     ]
    },
    {
     "data": {
      "text/plain": [
       "\"Activision's strategy and vision are to connect and engage the world through epic entertainment by expanding audience reach, deepening consumer engagement, and increasing player investment. They focus on creating compelling content, offering experiences on multiple platforms, and driving engagement through social connectivity within their communities.\""
      ]
     },
     "execution_count": 151,
     "metadata": {},
     "output_type": "execute_result"
    }
   ],
   "source": [
    "chain.invoke({\"question\": \"What is Activisions strategy and vision?\"})"
   ]
  },
  {
   "cell_type": "code",
   "execution_count": 152,
   "id": "3a173dbb-f9fb-46d6-8bc4-057cf4846c97",
   "metadata": {},
   "outputs": [
    {
     "name": "stdout",
     "output_type": "stream",
     "text": [
      "Search query: What does King digital offer?\n"
     ]
    },
    {
     "data": {
      "text/plain": [
       "'King Digital offers content through free-to-play offerings and primarily generates revenue from in-game sales and in-game advertising on mobile platforms. Their key product offerings include titles and content for Candy Crush™, a \"match three\" franchise.'"
      ]
     },
     "execution_count": 152,
     "metadata": {},
     "output_type": "execute_result"
    }
   ],
   "source": [
    "chain.invoke({\"question\": \"What does King digital offer?\"})"
   ]
  },
  {
   "cell_type": "code",
   "execution_count": 153,
   "id": "0ad028bf-48aa-47f3-8e90-4588cc11acd0",
   "metadata": {},
   "outputs": [
    {
     "name": "stdout",
     "output_type": "stream",
     "text": [
      "Search query: How are King digital and World of warcraft related?\n"
     ]
    },
    {
     "data": {
      "text/plain": [
       "'King Digital Entertainment is a subsidiary of Activision Blizzard, the parent company of Blizzard Entertainment, which develops the Warcraft franchise, including World of Warcraft.'"
      ]
     },
     "execution_count": 153,
     "metadata": {},
     "output_type": "execute_result"
    }
   ],
   "source": [
    "chain.invoke({\"question\": \"How are King digital and World of warcraft related?\"})"
   ]
  },
  {
   "cell_type": "code",
   "execution_count": 155,
   "id": "0e5f349b-09cb-4a52-a1df-b9e3deac7953",
   "metadata": {},
   "outputs": [
    {
     "name": "stdout",
     "output_type": "stream",
     "text": [
      "Search query: Can I get World of warcraft subscription from King Digital?\n"
     ]
    },
    {
     "data": {
      "text/plain": [
       "'No, you cannot get a World of Warcraft subscription from King Digital.'"
      ]
     },
     "execution_count": 155,
     "metadata": {},
     "output_type": "execute_result"
    }
   ],
   "source": [
    "chain.invoke({\"question\": \"Can I get World of warcraft subscription from King Digital?\"})"
   ]
  }
 ],
 "metadata": {
  "kernelspec": {
   "display_name": "Python 3 (ipykernel)",
   "language": "python",
   "name": "python3"
  },
  "language_info": {
   "codemirror_mode": {
    "name": "ipython",
    "version": 3
   },
   "file_extension": ".py",
   "mimetype": "text/x-python",
   "name": "python",
   "nbconvert_exporter": "python",
   "pygments_lexer": "ipython3",
   "version": "3.9.18"
  }
 },
 "nbformat": 4,
 "nbformat_minor": 5
}
