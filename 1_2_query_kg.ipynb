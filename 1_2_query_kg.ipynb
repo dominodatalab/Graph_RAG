{
 "cells": [
  {
   "cell_type": "code",
   "execution_count": 55,
   "id": "bd0bfe09-e73f-4b8f-ad01-bc687a5d0e02",
   "metadata": {},
   "outputs": [],
   "source": [
    "# Load all the libraries we need\n",
    "from langchain_community.graphs import Neo4jGraph\n",
    "from langchain.prompts.prompt import PromptTemplate\n",
    "from langchain.chains import GraphCypherQAChain\n",
    "from langchain_openai import ChatOpenAI, OpenAI\n",
    "from langchain_community.chat_models import ChatMlflow\n",
    "\n",
    "import os\n",
    "import textwrap"
   ]
  },
  {
   "cell_type": "code",
   "execution_count": 56,
   "id": "37e00e33-8ccd-4ab5-a6c3-a73478de1f9b",
   "metadata": {},
   "outputs": [],
   "source": [
    "# Load from environment\n",
    "NEO4J_URI = os.getenv('NEO4J_URI')\n",
    "NEO4J_USERNAME = os.getenv('NEO4J_USERNAME')\n",
    "NEO4J_PASSWORD = os.getenv('NEO4J_PASSWORD')\n",
    "OPENAI_API_KEY = os.getenv('OPENAI_API_KEY')\n",
    "NEO4J_DATABASE = os.getenv('NEO4J_DATABASE') or 'neo4j'"
   ]
  },
  {
   "cell_type": "code",
   "execution_count": 57,
   "id": "8ea70854-dc22-40fc-8537-1ef93b00a001",
   "metadata": {},
   "outputs": [],
   "source": [
    "kg = Neo4jGraph(\n",
    "    url=NEO4J_URI, username=NEO4J_USERNAME, password=NEO4J_PASSWORD\n",
    ")"
   ]
  },
  {
   "cell_type": "code",
   "execution_count": 58,
   "id": "aee034ad-b943-402e-9ec3-a49cc4ef18c1",
   "metadata": {},
   "outputs": [
    {
     "name": "stdout",
     "output_type": "stream",
     "text": [
      "Node properties are the following: Movie {duration: STRING,\n",
      "listed_in: STRING, country: STRING, cast: STRING,\n",
      "date_added: STRING, director: STRING, release_year: STRING,\n",
      "rating: STRING, description: STRING, id: STRING, title:\n",
      "STRING, type: STRING},Person {name: STRING},Category {name:\n",
      "STRING},Type {type: STRING},Country {name: STRING},Year\n",
      "{value: INTEGER} Relationship properties are the following:\n",
      "The relationships are the following: (:Movie)-[:TYPED_AS]->(\n",
      ":Type),(:Movie)-[:IN_CATEGORY]->(:Category),(:Movie)-[:WHERE\n",
      "]->(:Country),(:Movie)-[:CREATED_ON]->(:Year),(:Person)-[:AC\n",
      "TED_IN]->(:Movie),(:Person)-[:WORK_WITH]->(:Person),(:Person\n",
      ")-[:DIRECTED]->(:Movie),(:Year)-[:NEXT]->(:Year)\n"
     ]
    }
   ],
   "source": [
    "# Check the graph schema\n",
    "kg.refresh_schema()\n",
    "print(textwrap.fill(kg.schema, 60))"
   ]
  },
  {
   "cell_type": "code",
   "execution_count": 59,
   "id": "6741b5be-ab5a-44a5-a370-4ce8d1a762f5",
   "metadata": {},
   "outputs": [],
   "source": [
    "CYPHER_GENERATION_TEMPLATE = \"\"\"Task:Generate Cypher statement to query a graph database.\n",
    "Instructions:\n",
    "Use only the provided relationship types and properties in the schema.\n",
    "Do not use any other relationship types or properties that are not provided.\n",
    "Schema:\n",
    "{schema}\n",
    "Note: Do not include any explanations or apologies in your responses.\n",
    "Do not respond to any questions that might ask anything else than for you to construct a Cypher statement.\n",
    "Do not include any text except the generated Cypher statement.\n",
    "Examples: Here are a few examples of generated Cypher statements for particular questions:\n",
    "\n",
    "# How many people starred in Top Gun?\n",
    "MATCH (m:Movie {{title:\"Top Gun\"}})<-[:ACTED_IN]-()\n",
    "RETURN count(*) AS numberOfActors\n",
    "\n",
    "# What are the most popular movie categories\n",
    "MATCH (m:Movie)-[:IN_CATEGORY]->(c:Category)\n",
    "WITH c.name AS Category, COUNT(m) AS MoviesCount\n",
    "RETURN Category, MoviesCount\n",
    "ORDER BY MoviesCount DESC\n",
    "\n",
    "# All the movies Keanu Reeves acted in\n",
    "MATCH (p:Person {{name: \"Keanu Reeves\"}})-[:ACTED_IN]->(m:Movie)\n",
    "RETURN m.title AS Movie, m.release_year AS ReleaseYear\n",
    "ORDER BY m.release_year DESC\n",
    "\n",
    "# all persons who have acted in at least one movie with Keanu Reeves\n",
    "MATCH (p:Person {{name: \"Keanu Reeves\"}})-[:ACTED_IN]->(m:Movie)<-[:ACTED_IN]-(coActors)\n",
    "WHERE p.name <> coActors.name\n",
    "RETURN DISTINCT coActors.name AS CoActor\n",
    "\n",
    "# Find pairs of actors who have worked together in more than one movie\n",
    "MATCH (p1:Person)-[:ACTED_IN]->(m:Movie)<-[:ACTED_IN]-(p2:Person)\n",
    "WHERE p1.name < p2.name\n",
    "WITH p1, p2, COUNT(m) AS sharedMovies\n",
    "WHERE sharedMovies > 1\n",
    "RETURN p1.name AS Actor1, p2.name AS Actor2, sharedMovies\n",
    "ORDER BY sharedMovies DESC\n",
    "\n",
    "# Retrieve movies along with their categories.\n",
    "MATCH (m:Movie)-[:IN_CATEGORY]->(c:Category)\n",
    "RETURN m.title AS Movie, collect(c.name) AS Categories\n",
    "\n",
    "# Find Movies Directed by Actors\n",
    "MATCH (p:Person)-[:DIRECTED]->(m:Movie), (p)-[:ACTED_IN]->(m2:Movie)\n",
    "RETURN p.name AS Person, m.title AS DirectedMovie, m2.title AS ActedInMovie\n",
    "\n",
    "# Find movies released in the United States grouped by their release year\n",
    "MATCH (m:Movie)-[:WHERE]->(c:Country {{name: \"United States\"}})\n",
    "RETURN m.release_year AS ReleaseYear, collect(m.title) AS Movies\n",
    "ORDER BY m.release_year\n",
    "\n",
    "# Which actors have worked with Keanu Reeves in more than 2 movies and list the movies\n",
    "MATCH (p1:Person)-[:ACTED_IN]->(m:Movie)<-[:ACTED_IN]-(p2:Person)\n",
    "WHERE p1.name = \"Keanu Reeves\" AND p1.name <> p2.name\n",
    "WITH p1, p2, collect(m.title) AS Movies, COUNT(m) AS sharedMovies\n",
    "WHERE sharedMovies > 2\n",
    "RETURN p2.name AS Actor, Movies\n",
    "ORDER BY sharedMovies DESC\n",
    "\n",
    "The question is:\n",
    "{question}\"\"\""
   ]
  },
  {
   "cell_type": "code",
   "execution_count": 60,
   "id": "a6e3f797-090d-4691-ad95-d0bc6adfe5b4",
   "metadata": {},
   "outputs": [],
   "source": [
    "CYPHER_GENERATION_PROMPT = PromptTemplate(\n",
    "    input_variables=[\"schema\", \"question\"], \n",
    "    template=CYPHER_GENERATION_TEMPLATE\n",
    ")"
   ]
  },
  {
   "cell_type": "code",
   "execution_count": 67,
   "id": "5c44eb7e-b5f4-4003-be4e-9932e95b147f",
   "metadata": {},
   "outputs": [],
   "source": [
    "# Uncomment to use the AI gateway instead of OpenAI(temperature=0.9), change the name of the endpoint as required\n",
    "# chat_llm = ChatMlflow(\n",
    "#     target_uri=os.environ[\"DOMINO_MLFLOW_DEPLOYMENTS\"],\n",
    "#     endpoint=\"chat-gpt35turbo-sm\",\n",
    "# )\n",
    "\n",
    "cypherChain = GraphCypherQAChain.from_llm(\n",
    "    OpenAI(temperature=0.9),\n",
    "    graph=kg,\n",
    "    verbose=True,\n",
    "    validate_cypher= True,\n",
    "    cypher_prompt=CYPHER_GENERATION_PROMPT,\n",
    "    \n",
    ")"
   ]
  },
  {
   "cell_type": "code",
   "execution_count": 79,
   "id": "1d53486f-ce71-4907-bb6f-71e0974baa95",
   "metadata": {},
   "outputs": [
    {
     "name": "stdout",
     "output_type": "stream",
     "text": [
      "\n",
      "\n",
      "\u001b[1m> Entering new GraphCypherQAChain chain...\u001b[0m\n",
      "Generated Cypher:\n",
      "\u001b[32;1m\u001b[1;3m\n",
      "MATCH (p:Person)-[:ACTED_IN]->(m:Movie)\n",
      "RETURN p.name AS Actor, count(*) AS Movies\n",
      "ORDER BY Movies DESC, Actor\n",
      "LIMIT 3\u001b[0m\n",
      "Full Context:\n",
      "\u001b[32;1m\u001b[1;3m[{'Actor': '', 'Movies': 570}, {'Actor': 'Anupam Kher', 'Movies': 33}, {'Actor': 'Shah Rukh Khan', 'Movies': 30}]\u001b[0m\n",
      "\n",
      "\u001b[1m> Finished chain.\u001b[0m\n"
     ]
    },
    {
     "data": {
      "text/plain": [
       "{'query': 'Who has acted in the most number of movies, give me three listed in alphabetic order?',\n",
       " 'result': ' Anupam Kher, Shah Rukh Khan'}"
      ]
     },
     "execution_count": 79,
     "metadata": {},
     "output_type": "execute_result"
    }
   ],
   "source": [
    "cypherChain.invoke(\"Who has acted in the most number of movies, give me three listed in alphabetic order?\")"
   ]
  },
  {
   "cell_type": "code",
   "execution_count": 81,
   "id": "e49dcc8b-39ab-4335-94ca-0f5dd71a6f4d",
   "metadata": {},
   "outputs": [
    {
     "name": "stdout",
     "output_type": "stream",
     "text": [
      "\n",
      "\n",
      "\u001b[1m> Entering new GraphCypherQAChain chain...\u001b[0m\n",
      "Generated Cypher:\n",
      "\u001b[32;1m\u001b[1;3m\n",
      "MATCH (s:Person {name: \"Shah Rukh Khan\"})-[:ACTED_IN]->(m:Movie)<-[:ACTED_IN]-(a:Person {name: \"Anupam Kher\"})\n",
      "RETURN m.title AS Movie, m.release_year AS ReleaseYear\n",
      "ORDER BY m.release_year ASC\u001b[0m\n",
      "Full Context:\n",
      "\u001b[32;1m\u001b[1;3m[{'Movie': 'Oh Darling Yeh Hai India', 'ReleaseYear': '1995'}, {'Movie': 'Chaahat', 'ReleaseYear': '1996'}, {'Movie': 'Paheli', 'ReleaseYear': '2005'}]\u001b[0m\n",
      "\n",
      "\u001b[1m> Finished chain.\u001b[0m\n"
     ]
    },
    {
     "data": {
      "text/plain": [
       "{'query': 'Which movies have Shah Rukh Khan and Anupam Kher worked in together and which year were they released?',\n",
       " 'result': ' Shah Rukh Khan and Anupam Kher worked in Oh Darling Yeh Hai India, Chaahat and Paheli, which were released in 1995, 1996, and 2005, respectively.'}"
      ]
     },
     "execution_count": 81,
     "metadata": {},
     "output_type": "execute_result"
    }
   ],
   "source": [
    "cypherChain.invoke(\"Which movies have Shah Rukh Khan and Anupam Kher worked in together and which year were they released?\")"
   ]
  },
  {
   "cell_type": "code",
   "execution_count": 90,
   "id": "6f59dcd6-362f-49ff-a264-d1501458302d",
   "metadata": {},
   "outputs": [
    {
     "name": "stdout",
     "output_type": "stream",
     "text": [
      "\n",
      "\n",
      "\u001b[1m> Entering new GraphCypherQAChain chain...\u001b[0m\n",
      "Generated Cypher:\n",
      "\u001b[32;1m\u001b[1;3m\n",
      "MATCH (m:Movie {title: \"Stranger Things\"})-[:IN_CATEGORY]->(c:Category)\n",
      "RETURN c.name AS Genre\u001b[0m\n",
      "Full Context:\n",
      "\u001b[32;1m\u001b[1;3m[{'Genre': 'TV Mysteries'}, {'Genre': 'TV Horror'}, {'Genre': 'TV Sci-Fi & Fantasy'}]\u001b[0m\n",
      "\n",
      "\u001b[1m> Finished chain.\u001b[0m\n"
     ]
    },
    {
     "data": {
      "text/plain": [
       "{'query': 'What genre is Stranger Things?',\n",
       " 'result': ' Stranger Things is a combination of TV Mysteries, TV Horror, and TV Sci-Fi & Fantasy.\\n'}"
      ]
     },
     "execution_count": 90,
     "metadata": {},
     "output_type": "execute_result"
    }
   ],
   "source": [
    "cypherChain.invoke(\"What genre is Stranger Things?\")"
   ]
  },
  {
   "cell_type": "code",
   "execution_count": 96,
   "id": "6930e984-0bc4-4ad6-a25e-28a8ddcf29a1",
   "metadata": {},
   "outputs": [
    {
     "name": "stdout",
     "output_type": "stream",
     "text": [
      "\n",
      "\n",
      "\u001b[1m> Entering new GraphCypherQAChain chain...\u001b[0m\n",
      "Generated Cypher:\n",
      "\u001b[32;1m\u001b[1;3m\n",
      "\n",
      "MATCH (s:Movie {title: \"Stranger Things\"})-[:IN_CATEGORY]->(c1:Category),\n",
      "      (s)-[:IN_CATEGORY]->(c2:Category),\n",
      "      (m:Movie)-[:IN_CATEGORY]->(c1),\n",
      "      (m)-[:IN_CATEGORY]->(c2)\n",
      "WHERE m.title <> s.title\n",
      "RETURN m.title AS Movie, collect(c1.name) AS SharedGenres\n",
      "ORDER BY Movie\u001b[0m\n",
      "Full Context:\n",
      "\u001b[32;1m\u001b[1;3m[{'Movie': 'American Horror Story', 'SharedGenres': ['TV Horror', 'TV Mysteries']}, {'Movie': 'Anjaan: Special Crimes Unit', 'SharedGenres': ['TV Horror', 'TV Mysteries']}, {'Movie': 'Beyond Stranger Things', 'SharedGenres': ['TV Sci-Fi & Fantasy', 'TV Mysteries']}, {'Movie': 'Chambers', 'SharedGenres': ['TV Horror', 'TV Mysteries']}, {'Movie': 'Chilling Adventures of Sabrina', 'SharedGenres': ['TV Horror', 'TV Sci-Fi & Fantasy', 'TV Mysteries', 'TV Sci-Fi & Fantasy', 'TV Mysteries', 'TV Horror']}, {'Movie': 'Haven', 'SharedGenres': ['TV Horror', 'TV Mysteries']}, {'Movie': 'Helix', 'SharedGenres': ['TV Horror', 'TV Sci-Fi & Fantasy', 'TV Mysteries', 'TV Sci-Fi & Fantasy', 'TV Mysteries', 'TV Horror']}, {'Movie': 'Hemlock Grove', 'SharedGenres': ['TV Horror', 'TV Mysteries']}, {'Movie': 'Lost Girl', 'SharedGenres': ['TV Horror', 'TV Mysteries']}, {'Movie': 'Love, Death & Robots', 'SharedGenres': ['TV Sci-Fi & Fantasy', 'TV Horror']}]\u001b[0m\n",
      "\n",
      "\u001b[1m> Finished chain.\u001b[0m\n"
     ]
    },
    {
     "data": {
      "text/plain": [
       "{'query': 'Find movies that share at least two genres with Stranger Things',\n",
       " 'result': ' American Horror Story, Chilling Adventures of Sabrina, Haven, Hemlock Grove, Helix'}"
      ]
     },
     "execution_count": 96,
     "metadata": {},
     "output_type": "execute_result"
    }
   ],
   "source": [
    "cypherChain.invoke(\"Find movies that share at least two genres with Stranger Things\")"
   ]
  },
  {
   "cell_type": "code",
   "execution_count": 99,
   "id": "045a9274-96d7-45f4-932a-a171ed546458",
   "metadata": {},
   "outputs": [
    {
     "name": "stdout",
     "output_type": "stream",
     "text": [
      "\n",
      "\n",
      "\u001b[1m> Entering new GraphCypherQAChain chain...\u001b[0m\n",
      "Generated Cypher:\n",
      "\u001b[32;1m\u001b[1;3m\n",
      "\n",
      "MATCH (m:Movie {title: \"Stranger Things\"})<-[:ACTED_IN]-(p:Person)\n",
      "RETURN p.name AS Actor\u001b[0m\n",
      "Full Context:\n",
      "\u001b[32;1m\u001b[1;3m[{'Actor': 'Sean Astin'}, {'Actor': 'David Harbour'}, {'Actor': 'Finn Wolfhard'}, {'Actor': 'Millie Bobby Brown'}, {'Actor': 'Gaten Matarazzo'}, {'Actor': 'Caleb McLaughlin'}, {'Actor': 'Natalia Dyer'}, {'Actor': 'Charlie Heaton'}, {'Actor': 'Noah Schnapp'}, {'Actor': 'Joe Keery'}]\u001b[0m\n",
      "\n",
      "\u001b[1m> Finished chain.\u001b[0m\n"
     ]
    },
    {
     "data": {
      "text/plain": [
       "{'query': 'Who acts in Stranger Things?',\n",
       " 'result': ' Sean Astin, David Harbour, Finn Wolfhard, Millie Bobby Brown, Gaten Matarazzo, Caleb McLaughlin, Natalia Dyer, Charlie Heaton, Noah Schnapp, Joe Keery'}"
      ]
     },
     "execution_count": 99,
     "metadata": {},
     "output_type": "execute_result"
    }
   ],
   "source": [
    "cypherChain.invoke(\"Who acts in Stranger Things?\")"
   ]
  },
  {
   "cell_type": "code",
   "execution_count": null,
   "id": "87569c2d-677b-4750-93a8-e69fedb371ee",
   "metadata": {},
   "outputs": [],
   "source": []
  }
 ],
 "metadata": {
  "kernelspec": {
   "display_name": "Python 3 (ipykernel)",
   "language": "python",
   "name": "python3"
  },
  "language_info": {
   "codemirror_mode": {
    "name": "ipython",
    "version": 3
   },
   "file_extension": ".py",
   "mimetype": "text/x-python",
   "name": "python",
   "nbconvert_exporter": "python",
   "pygments_lexer": "ipython3",
   "version": "3.9.18"
  }
 },
 "nbformat": 4,
 "nbformat_minor": 5
}
